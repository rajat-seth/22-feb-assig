{
 "cells": [
  {
   "cell_type": "markdown",
   "id": "d6cc02a0-2bd3-4a86-84b5-427d79b3f676",
   "metadata": {},
   "source": [
    "Q1)"
   ]
  },
  {
   "cell_type": "code",
   "execution_count": 1,
   "id": "5cdeb8b3-3d5b-48a6-8680-803f751d023f",
   "metadata": {},
   "outputs": [],
   "source": [
    "import pandas as pd"
   ]
  },
  {
   "cell_type": "code",
   "execution_count": 2,
   "id": "caaf05bf-6086-45d1-89e9-896b67e71a41",
   "metadata": {},
   "outputs": [
    {
     "name": "stdout",
     "output_type": "stream",
     "text": [
      "    0\n",
      "0   4\n",
      "1   8\n",
      "2  15\n",
      "3  16\n",
      "4  23\n",
      "5  42\n"
     ]
    }
   ],
   "source": [
    "data=[4,8,15,16,23,42]\n",
    "\n",
    "df=pd.DataFrame(data)\n",
    "print(df)"
   ]
  },
  {
   "cell_type": "code",
   "execution_count": 3,
   "id": "1e865692-93f2-4ee8-a96f-357509b8ccd7",
   "metadata": {},
   "outputs": [
    {
     "data": {
      "text/plain": [
       "0     4\n",
       "1     8\n",
       "2    15\n",
       "3    16\n",
       "4    23\n",
       "5    42\n",
       "Name: 0, dtype: int64"
      ]
     },
     "execution_count": 3,
     "metadata": {},
     "output_type": "execute_result"
    }
   ],
   "source": [
    "df[0]"
   ]
  },
  {
   "cell_type": "markdown",
   "id": "3649089e-91bb-4c1f-820f-a9039dfbda19",
   "metadata": {},
   "source": [
    "Q2)"
   ]
  },
  {
   "cell_type": "code",
   "execution_count": 12,
   "id": "ea883ec5-7099-466a-a060-d84b9e1de4a5",
   "metadata": {},
   "outputs": [],
   "source": [
    "variable=[\"a\",\"s\",\"d\",\"f\",\"g\",\"z\",\"x\",\"c\",\"v\",\"b\"]"
   ]
  },
  {
   "cell_type": "code",
   "execution_count": 13,
   "id": "7ace68f2-2186-44cf-a868-07d3b05946de",
   "metadata": {},
   "outputs": [],
   "source": [
    "df1=pd.Series(variable)"
   ]
  },
  {
   "cell_type": "code",
   "execution_count": 14,
   "id": "5140fd2e-14ed-4344-9541-afb918ad1c8b",
   "metadata": {},
   "outputs": [
    {
     "name": "stdout",
     "output_type": "stream",
     "text": [
      "0    a\n",
      "1    s\n",
      "2    d\n",
      "3    f\n",
      "4    g\n",
      "5    z\n",
      "6    x\n",
      "7    c\n",
      "8    v\n",
      "9    b\n",
      "dtype: object\n"
     ]
    }
   ],
   "source": [
    "print(df1)"
   ]
  },
  {
   "cell_type": "markdown",
   "id": "d6ec3e25-cefc-4101-bef5-13b8509f1fbe",
   "metadata": {},
   "source": [
    "Q3)"
   ]
  },
  {
   "cell_type": "code",
   "execution_count": 15,
   "id": "72bffe16-8dca-4778-909f-294b495e9b22",
   "metadata": {},
   "outputs": [],
   "source": [
    "data1={\"Name\":[\"Alice\",\"Bob\",\"Claire\"],\"Age\":[25,30,27],\"Gender\":[\"Female\",\"Male\",\"Female\"]}"
   ]
  },
  {
   "cell_type": "markdown",
   "id": "e7a47a78-b8f3-4561-9997-fd33c1a9b07c",
   "metadata": {},
   "source": [
    "df2=pd.DataFrame(data1)\n",
    "print(df2)"
   ]
  },
  {
   "cell_type": "markdown",
   "id": "66518bea-ea5d-4ed6-95f6-9cc24bf9e284",
   "metadata": {},
   "source": [
    "Q4)"
   ]
  },
  {
   "cell_type": "markdown",
   "id": "b89151da-3bdd-4669-831e-afc6c6a95e91",
   "metadata": {},
   "source": [
    "DataFrame is a 2 dimensional data structure used to arrange data in rows and columns specially of different types.\n",
    "Whereas series is a 1 dimensional and data must be of a single type."
   ]
  },
  {
   "cell_type": "markdown",
   "id": "1fb24f23-e5cb-43b4-8ea5-18e23fee7480",
   "metadata": {},
   "source": [
    "Q5)"
   ]
  },
  {
   "cell_type": "markdown",
   "id": "79f6df1c-9ca4-4470-87de-0a916a513560",
   "metadata": {},
   "source": [
    "Some common functions are read.csv , read.html , to.csv etc.\n",
    "\n",
    "read.csv is used to extract data from a csv file.\n",
    "to.csv is used to save dataframe as csv file."
   ]
  },
  {
   "cell_type": "markdown",
   "id": "0902fe0e-3c00-43f9-9168-362b89a38a89",
   "metadata": {},
   "source": [
    "Q6)"
   ]
  },
  {
   "cell_type": "markdown",
   "id": "84e38da1-eaf4-4ea9-8853-15b6d676710d",
   "metadata": {},
   "source": [
    "Series is immutable.\n",
    "DataFrame is Immutable.\n",
    "Panel is size mutable."
   ]
  },
  {
   "cell_type": "markdown",
   "id": "e045406b-b91d-4a41-acf0-e92d360cf9dc",
   "metadata": {},
   "source": [
    "Q7)"
   ]
  },
  {
   "cell_type": "code",
   "execution_count": 24,
   "id": "0285686d-cfc2-4ca9-947b-a8345c4e476f",
   "metadata": {},
   "outputs": [
    {
     "name": "stdout",
     "output_type": "stream",
     "text": [
      "       0   1     2\n",
      "0  Rajat  21  Male\n",
      "1   Atul  22  Male\n"
     ]
    }
   ],
   "source": [
    "name=pd.Series([\"Rajat\",\"Atul\"])\n",
    "age=pd.Series([21,22])\n",
    "gender=pd.Series([\"Male\",\"Male\"])\n",
    "\n",
    "df4=pd.concat([name,age,Gender],axis=1)\n",
    "print(df4)"
   ]
  },
  {
   "cell_type": "code",
   "execution_count": null,
   "id": "8fce15cf-480a-43cb-be57-81cea27614bd",
   "metadata": {},
   "outputs": [],
   "source": []
  }
 ],
 "metadata": {
  "kernelspec": {
   "display_name": "Python 3 (ipykernel)",
   "language": "python",
   "name": "python3"
  },
  "language_info": {
   "codemirror_mode": {
    "name": "ipython",
    "version": 3
   },
   "file_extension": ".py",
   "mimetype": "text/x-python",
   "name": "python",
   "nbconvert_exporter": "python",
   "pygments_lexer": "ipython3",
   "version": "3.10.8"
  }
 },
 "nbformat": 4,
 "nbformat_minor": 5
}
